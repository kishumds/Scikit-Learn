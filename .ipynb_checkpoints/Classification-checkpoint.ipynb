{
 "cells": [
  {
   "cell_type": "markdown",
   "id": "57f540bb",
   "metadata": {},
   "source": [
    "# Classification with Scikit-Learn"
   ]
  },
  {
   "cell_type": "markdown",
   "id": "55d42dc3",
   "metadata": {},
   "source": [
    "### Regression on random generated dataset"
   ]
  },
  {
   "cell_type": "markdown",
   "id": "70023999",
   "metadata": {},
   "source": [
    "#### Import Libraries"
   ]
  },
  {
   "cell_type": "code",
   "execution_count": 1,
   "id": "02408582",
   "metadata": {},
   "outputs": [],
   "source": [
    "import pandas as pd\n",
    "from sklearn import datasets\n",
    "from sklearn.model_selection import train_test_split\n",
    "from sklearn.linear_model import LogisticRegression\n",
    "from sklearn.ensemble import AdaBoostClassifier, RandomForestClassifier\n",
    "from sklearn.naive_bayes import GaussianNB\n",
    "from sklearn.svm import SVC\n",
    "from sklearn.tree import DecisionTreeClassifier\n",
    "from sklearn.metrics import classification_report"
   ]
  },
  {
   "cell_type": "markdown",
   "id": "2e1d6852",
   "metadata": {},
   "source": [
    "#### Create Classification dataset"
   ]
  },
  {
   "cell_type": "code",
   "execution_count": 2,
   "id": "8f6b21d3",
   "metadata": {},
   "outputs": [],
   "source": [
    "X, y = datasets.make_classification(\n",
    "                        n_samples=1000,\n",
    "                        n_features=10,\n",
    "                        n_informative=8,\n",
    "                        n_classes=3,\n",
    "                        random_state=43)"
   ]
  },
  {
   "cell_type": "code",
   "execution_count": 3,
   "id": "69bf4b38",
   "metadata": {},
   "outputs": [
    {
     "data": {
      "text/html": [
       "<div>\n",
       "<style scoped>\n",
       "    .dataframe tbody tr th:only-of-type {\n",
       "        vertical-align: middle;\n",
       "    }\n",
       "\n",
       "    .dataframe tbody tr th {\n",
       "        vertical-align: top;\n",
       "    }\n",
       "\n",
       "    .dataframe thead th {\n",
       "        text-align: right;\n",
       "    }\n",
       "</style>\n",
       "<table border=\"1\" class=\"dataframe\">\n",
       "  <thead>\n",
       "    <tr style=\"text-align: right;\">\n",
       "      <th></th>\n",
       "      <th>X1</th>\n",
       "      <th>X2</th>\n",
       "      <th>X3</th>\n",
       "      <th>X4</th>\n",
       "      <th>X5</th>\n",
       "      <th>X6</th>\n",
       "      <th>X7</th>\n",
       "      <th>X8</th>\n",
       "      <th>X9</th>\n",
       "      <th>X10</th>\n",
       "    </tr>\n",
       "  </thead>\n",
       "  <tbody>\n",
       "    <tr>\n",
       "      <th>0</th>\n",
       "      <td>-1.914406</td>\n",
       "      <td>0.233732</td>\n",
       "      <td>-1.807928</td>\n",
       "      <td>-0.512153</td>\n",
       "      <td>1.398262</td>\n",
       "      <td>0.381182</td>\n",
       "      <td>-2.767646</td>\n",
       "      <td>2.444344</td>\n",
       "      <td>-0.630516</td>\n",
       "      <td>1.636387</td>\n",
       "    </tr>\n",
       "    <tr>\n",
       "      <th>1</th>\n",
       "      <td>0.759247</td>\n",
       "      <td>1.397979</td>\n",
       "      <td>0.415965</td>\n",
       "      <td>0.856484</td>\n",
       "      <td>0.546020</td>\n",
       "      <td>1.820276</td>\n",
       "      <td>1.580028</td>\n",
       "      <td>-2.299039</td>\n",
       "      <td>2.975507</td>\n",
       "      <td>-3.888826</td>\n",
       "    </tr>\n",
       "    <tr>\n",
       "      <th>2</th>\n",
       "      <td>-2.369630</td>\n",
       "      <td>-0.567535</td>\n",
       "      <td>-0.004316</td>\n",
       "      <td>-2.409063</td>\n",
       "      <td>1.322688</td>\n",
       "      <td>-1.510873</td>\n",
       "      <td>1.193471</td>\n",
       "      <td>3.222147</td>\n",
       "      <td>2.079678</td>\n",
       "      <td>-2.971841</td>\n",
       "    </tr>\n",
       "    <tr>\n",
       "      <th>3</th>\n",
       "      <td>-1.133787</td>\n",
       "      <td>0.335217</td>\n",
       "      <td>0.737784</td>\n",
       "      <td>0.773974</td>\n",
       "      <td>1.880210</td>\n",
       "      <td>-2.974308</td>\n",
       "      <td>5.142760</td>\n",
       "      <td>-1.441096</td>\n",
       "      <td>-0.614864</td>\n",
       "      <td>-1.855610</td>\n",
       "    </tr>\n",
       "    <tr>\n",
       "      <th>4</th>\n",
       "      <td>3.232324</td>\n",
       "      <td>1.110994</td>\n",
       "      <td>-0.547249</td>\n",
       "      <td>-1.860551</td>\n",
       "      <td>-2.314942</td>\n",
       "      <td>4.292691</td>\n",
       "      <td>-6.929045</td>\n",
       "      <td>0.860951</td>\n",
       "      <td>0.699968</td>\n",
       "      <td>1.157313</td>\n",
       "    </tr>\n",
       "    <tr>\n",
       "      <th>...</th>\n",
       "      <td>...</td>\n",
       "      <td>...</td>\n",
       "      <td>...</td>\n",
       "      <td>...</td>\n",
       "      <td>...</td>\n",
       "      <td>...</td>\n",
       "      <td>...</td>\n",
       "      <td>...</td>\n",
       "      <td>...</td>\n",
       "      <td>...</td>\n",
       "    </tr>\n",
       "    <tr>\n",
       "      <th>995</th>\n",
       "      <td>-0.529220</td>\n",
       "      <td>0.905847</td>\n",
       "      <td>0.919983</td>\n",
       "      <td>1.431735</td>\n",
       "      <td>-0.543803</td>\n",
       "      <td>0.850856</td>\n",
       "      <td>1.433223</td>\n",
       "      <td>-0.577727</td>\n",
       "      <td>-0.267308</td>\n",
       "      <td>0.604294</td>\n",
       "    </tr>\n",
       "    <tr>\n",
       "      <th>996</th>\n",
       "      <td>1.461870</td>\n",
       "      <td>-1.853597</td>\n",
       "      <td>1.611229</td>\n",
       "      <td>-1.259840</td>\n",
       "      <td>0.257795</td>\n",
       "      <td>-0.869855</td>\n",
       "      <td>-0.077028</td>\n",
       "      <td>0.229175</td>\n",
       "      <td>1.979296</td>\n",
       "      <td>-0.221801</td>\n",
       "    </tr>\n",
       "    <tr>\n",
       "      <th>997</th>\n",
       "      <td>-0.564122</td>\n",
       "      <td>2.729894</td>\n",
       "      <td>1.829650</td>\n",
       "      <td>0.437344</td>\n",
       "      <td>1.450382</td>\n",
       "      <td>1.640369</td>\n",
       "      <td>1.895507</td>\n",
       "      <td>1.108648</td>\n",
       "      <td>3.767926</td>\n",
       "      <td>-1.765008</td>\n",
       "    </tr>\n",
       "    <tr>\n",
       "      <th>998</th>\n",
       "      <td>1.824179</td>\n",
       "      <td>-2.367409</td>\n",
       "      <td>0.445785</td>\n",
       "      <td>-0.176667</td>\n",
       "      <td>0.124945</td>\n",
       "      <td>-0.963625</td>\n",
       "      <td>0.825621</td>\n",
       "      <td>-2.904529</td>\n",
       "      <td>0.956421</td>\n",
       "      <td>-1.970945</td>\n",
       "    </tr>\n",
       "    <tr>\n",
       "      <th>999</th>\n",
       "      <td>-3.248670</td>\n",
       "      <td>1.991348</td>\n",
       "      <td>1.468651</td>\n",
       "      <td>1.188587</td>\n",
       "      <td>0.475172</td>\n",
       "      <td>1.435182</td>\n",
       "      <td>1.304143</td>\n",
       "      <td>2.370769</td>\n",
       "      <td>-0.356838</td>\n",
       "      <td>1.965687</td>\n",
       "    </tr>\n",
       "  </tbody>\n",
       "</table>\n",
       "<p>1000 rows × 10 columns</p>\n",
       "</div>"
      ],
      "text/plain": [
       "           X1        X2        X3        X4        X5        X6        X7  \\\n",
       "0   -1.914406  0.233732 -1.807928 -0.512153  1.398262  0.381182 -2.767646   \n",
       "1    0.759247  1.397979  0.415965  0.856484  0.546020  1.820276  1.580028   \n",
       "2   -2.369630 -0.567535 -0.004316 -2.409063  1.322688 -1.510873  1.193471   \n",
       "3   -1.133787  0.335217  0.737784  0.773974  1.880210 -2.974308  5.142760   \n",
       "4    3.232324  1.110994 -0.547249 -1.860551 -2.314942  4.292691 -6.929045   \n",
       "..        ...       ...       ...       ...       ...       ...       ...   \n",
       "995 -0.529220  0.905847  0.919983  1.431735 -0.543803  0.850856  1.433223   \n",
       "996  1.461870 -1.853597  1.611229 -1.259840  0.257795 -0.869855 -0.077028   \n",
       "997 -0.564122  2.729894  1.829650  0.437344  1.450382  1.640369  1.895507   \n",
       "998  1.824179 -2.367409  0.445785 -0.176667  0.124945 -0.963625  0.825621   \n",
       "999 -3.248670  1.991348  1.468651  1.188587  0.475172  1.435182  1.304143   \n",
       "\n",
       "           X8        X9       X10  \n",
       "0    2.444344 -0.630516  1.636387  \n",
       "1   -2.299039  2.975507 -3.888826  \n",
       "2    3.222147  2.079678 -2.971841  \n",
       "3   -1.441096 -0.614864 -1.855610  \n",
       "4    0.860951  0.699968  1.157313  \n",
       "..        ...       ...       ...  \n",
       "995 -0.577727 -0.267308  0.604294  \n",
       "996  0.229175  1.979296 -0.221801  \n",
       "997  1.108648  3.767926 -1.765008  \n",
       "998 -2.904529  0.956421 -1.970945  \n",
       "999  2.370769 -0.356838  1.965687  \n",
       "\n",
       "[1000 rows x 10 columns]"
      ]
     },
     "execution_count": 3,
     "metadata": {},
     "output_type": "execute_result"
    }
   ],
   "source": [
    "X = pd.DataFrame(X)\n",
    "X.columns = ['X1', 'X2', 'X3', 'X4', 'X5','X6', 'X7', 'X8', 'X9', 'X10']\n",
    "X"
   ]
  },
  {
   "cell_type": "code",
   "execution_count": 4,
   "id": "b241eb49",
   "metadata": {
    "scrolled": true
   },
   "outputs": [
    {
     "name": "stdout",
     "output_type": "stream",
     "text": [
      "<class 'pandas.core.frame.DataFrame'>\n",
      "RangeIndex: 1000 entries, 0 to 999\n",
      "Data columns (total 10 columns):\n",
      " #   Column  Non-Null Count  Dtype  \n",
      "---  ------  --------------  -----  \n",
      " 0   X1      1000 non-null   float64\n",
      " 1   X2      1000 non-null   float64\n",
      " 2   X3      1000 non-null   float64\n",
      " 3   X4      1000 non-null   float64\n",
      " 4   X5      1000 non-null   float64\n",
      " 5   X6      1000 non-null   float64\n",
      " 6   X7      1000 non-null   float64\n",
      " 7   X8      1000 non-null   float64\n",
      " 8   X9      1000 non-null   float64\n",
      " 9   X10     1000 non-null   float64\n",
      "dtypes: float64(10)\n",
      "memory usage: 78.2 KB\n"
     ]
    }
   ],
   "source": [
    "X.info()"
   ]
  },
  {
   "cell_type": "markdown",
   "id": "35414d7f",
   "metadata": {},
   "source": [
    "#### Split dataset into training dataset and testing dataset"
   ]
  },
  {
   "cell_type": "code",
   "execution_count": 5,
   "id": "33f384f6",
   "metadata": {},
   "outputs": [],
   "source": [
    "train_X, test_X, train_y, test_y = train_test_split(X, y, random_state=1)"
   ]
  },
  {
   "cell_type": "markdown",
   "id": "d1f67c51",
   "metadata": {},
   "source": [
    "#### Classification Models"
   ]
  },
  {
   "cell_type": "code",
   "execution_count": 6,
   "id": "043703c8",
   "metadata": {},
   "outputs": [],
   "source": [
    "lr = LogisticRegression()\n",
    "ada = AdaBoostClassifier()\n",
    "rfc = RandomForestClassifier()\n",
    "gnb = GaussianNB()\n",
    "svc = SVC()\n",
    "dtc = DecisionTreeClassifier()"
   ]
  },
  {
   "cell_type": "markdown",
   "id": "f7c727bc",
   "metadata": {},
   "source": [
    "#### Train Model on training dataset"
   ]
  },
  {
   "cell_type": "code",
   "execution_count": 7,
   "id": "45d91ba8",
   "metadata": {},
   "outputs": [],
   "source": [
    "models = [lr, ada, rfc, gnb, svc, dtc]\n",
    "for model in models:\n",
    "    model.fit(train_X,train_y)"
   ]
  },
  {
   "cell_type": "markdown",
   "id": "73e81db0",
   "metadata": {},
   "source": [
    "#### Prediction of testing dataset"
   ]
  },
  {
   "cell_type": "code",
   "execution_count": 8,
   "id": "020b11fe",
   "metadata": {},
   "outputs": [],
   "source": [
    "def predict(X, y, model):\n",
    "    pred = model.predict(X)\n",
    "    print(classification_report(y, pred))"
   ]
  },
  {
   "cell_type": "code",
   "execution_count": 9,
   "id": "d95e7a30",
   "metadata": {},
   "outputs": [
    {
     "name": "stdout",
     "output_type": "stream",
     "text": [
      "LogisticRegression()\n",
      "              precision    recall  f1-score   support\n",
      "\n",
      "           0       0.74      0.70      0.72        87\n",
      "           1       0.69      0.77      0.73        75\n",
      "           2       0.87      0.83      0.85        88\n",
      "\n",
      "    accuracy                           0.77       250\n",
      "   macro avg       0.77      0.77      0.77       250\n",
      "weighted avg       0.77      0.77      0.77       250\n",
      "\n",
      "AdaBoostClassifier()\n",
      "              precision    recall  f1-score   support\n",
      "\n",
      "           0       0.68      0.78      0.73        87\n",
      "           1       0.69      0.71      0.70        75\n",
      "           2       0.89      0.74      0.81        88\n",
      "\n",
      "    accuracy                           0.74       250\n",
      "   macro avg       0.75      0.74      0.74       250\n",
      "weighted avg       0.76      0.74      0.75       250\n",
      "\n",
      "RandomForestClassifier()\n",
      "              precision    recall  f1-score   support\n",
      "\n",
      "           0       0.85      0.87      0.86        87\n",
      "           1       0.88      0.85      0.86        75\n",
      "           2       0.90      0.90      0.90        88\n",
      "\n",
      "    accuracy                           0.88       250\n",
      "   macro avg       0.88      0.87      0.88       250\n",
      "weighted avg       0.88      0.88      0.88       250\n",
      "\n",
      "GaussianNB()\n",
      "              precision    recall  f1-score   support\n",
      "\n",
      "           0       0.81      0.66      0.73        87\n",
      "           1       0.72      0.81      0.76        75\n",
      "           2       0.83      0.90      0.86        88\n",
      "\n",
      "    accuracy                           0.79       250\n",
      "   macro avg       0.79      0.79      0.78       250\n",
      "weighted avg       0.79      0.79      0.79       250\n",
      "\n",
      "SVC()\n",
      "              precision    recall  f1-score   support\n",
      "\n",
      "           0       0.92      0.87      0.89        87\n",
      "           1       0.85      0.88      0.86        75\n",
      "           2       0.92      0.93      0.93        88\n",
      "\n",
      "    accuracy                           0.90       250\n",
      "   macro avg       0.89      0.90      0.89       250\n",
      "weighted avg       0.90      0.90      0.90       250\n",
      "\n",
      "DecisionTreeClassifier()\n",
      "              precision    recall  f1-score   support\n",
      "\n",
      "           0       0.79      0.78      0.79        87\n",
      "           1       0.75      0.79      0.77        75\n",
      "           2       0.80      0.77      0.79        88\n",
      "\n",
      "    accuracy                           0.78       250\n",
      "   macro avg       0.78      0.78      0.78       250\n",
      "weighted avg       0.78      0.78      0.78       250\n",
      "\n"
     ]
    }
   ],
   "source": [
    "for model in models:\n",
    "    print(model)\n",
    "    predict(test_X, test_y, model)"
   ]
  },
  {
   "cell_type": "markdown",
   "id": "a8b7f503",
   "metadata": {},
   "source": [
    "### Classification on Breast Cancer Dataset"
   ]
  },
  {
   "cell_type": "markdown",
   "id": "7eef9e7e",
   "metadata": {},
   "source": [
    "#### Load dataset "
   ]
  },
  {
   "cell_type": "code",
   "execution_count": 10,
   "id": "21548019",
   "metadata": {},
   "outputs": [],
   "source": [
    "data = datasets.load_breast_cancer()"
   ]
  },
  {
   "cell_type": "code",
   "execution_count": 11,
   "id": "1ea6cf71",
   "metadata": {},
   "outputs": [
    {
     "name": "stdout",
     "output_type": "stream",
     "text": [
      ".. _breast_cancer_dataset:\n",
      "\n",
      "Breast cancer wisconsin (diagnostic) dataset\n",
      "--------------------------------------------\n",
      "\n",
      "**Data Set Characteristics:**\n",
      "\n",
      "    :Number of Instances: 569\n",
      "\n",
      "    :Number of Attributes: 30 numeric, predictive attributes and the class\n",
      "\n",
      "    :Attribute Information:\n",
      "        - radius (mean of distances from center to points on the perimeter)\n",
      "        - texture (standard deviation of gray-scale values)\n",
      "        - perimeter\n",
      "        - area\n",
      "        - smoothness (local variation in radius lengths)\n",
      "        - compactness (perimeter^2 / area - 1.0)\n",
      "        - concavity (severity of concave portions of the contour)\n",
      "        - concave points (number of concave portions of the contour)\n",
      "        - symmetry\n",
      "        - fractal dimension (\"coastline approximation\" - 1)\n",
      "\n",
      "        The mean, standard error, and \"worst\" or largest (mean of the three\n",
      "        worst/largest values) of these features were computed for each image,\n",
      "        resulting in 30 features.  For instance, field 0 is Mean Radius, field\n",
      "        10 is Radius SE, field 20 is Worst Radius.\n",
      "\n",
      "        - class:\n",
      "                - WDBC-Malignant\n",
      "                - WDBC-Benign\n",
      "\n",
      "    :Summary Statistics:\n",
      "\n",
      "    ===================================== ====== ======\n",
      "                                           Min    Max\n",
      "    ===================================== ====== ======\n",
      "    radius (mean):                        6.981  28.11\n",
      "    texture (mean):                       9.71   39.28\n",
      "    perimeter (mean):                     43.79  188.5\n",
      "    area (mean):                          143.5  2501.0\n",
      "    smoothness (mean):                    0.053  0.163\n",
      "    compactness (mean):                   0.019  0.345\n",
      "    concavity (mean):                     0.0    0.427\n",
      "    concave points (mean):                0.0    0.201\n",
      "    symmetry (mean):                      0.106  0.304\n",
      "    fractal dimension (mean):             0.05   0.097\n",
      "    radius (standard error):              0.112  2.873\n",
      "    texture (standard error):             0.36   4.885\n",
      "    perimeter (standard error):           0.757  21.98\n",
      "    area (standard error):                6.802  542.2\n",
      "    smoothness (standard error):          0.002  0.031\n",
      "    compactness (standard error):         0.002  0.135\n",
      "    concavity (standard error):           0.0    0.396\n",
      "    concave points (standard error):      0.0    0.053\n",
      "    symmetry (standard error):            0.008  0.079\n",
      "    fractal dimension (standard error):   0.001  0.03\n",
      "    radius (worst):                       7.93   36.04\n",
      "    texture (worst):                      12.02  49.54\n",
      "    perimeter (worst):                    50.41  251.2\n",
      "    area (worst):                         185.2  4254.0\n",
      "    smoothness (worst):                   0.071  0.223\n",
      "    compactness (worst):                  0.027  1.058\n",
      "    concavity (worst):                    0.0    1.252\n",
      "    concave points (worst):               0.0    0.291\n",
      "    symmetry (worst):                     0.156  0.664\n",
      "    fractal dimension (worst):            0.055  0.208\n",
      "    ===================================== ====== ======\n",
      "\n",
      "    :Missing Attribute Values: None\n",
      "\n",
      "    :Class Distribution: 212 - Malignant, 357 - Benign\n",
      "\n",
      "    :Creator:  Dr. William H. Wolberg, W. Nick Street, Olvi L. Mangasarian\n",
      "\n",
      "    :Donor: Nick Street\n",
      "\n",
      "    :Date: November, 1995\n",
      "\n",
      "This is a copy of UCI ML Breast Cancer Wisconsin (Diagnostic) datasets.\n",
      "https://goo.gl/U2Uwz2\n",
      "\n",
      "Features are computed from a digitized image of a fine needle\n",
      "aspirate (FNA) of a breast mass.  They describe\n",
      "characteristics of the cell nuclei present in the image.\n",
      "\n",
      "Separating plane described above was obtained using\n",
      "Multisurface Method-Tree (MSM-T) [K. P. Bennett, \"Decision Tree\n",
      "Construction Via Linear Programming.\" Proceedings of the 4th\n",
      "Midwest Artificial Intelligence and Cognitive Science Society,\n",
      "pp. 97-101, 1992], a classification method which uses linear\n",
      "programming to construct a decision tree.  Relevant features\n",
      "were selected using an exhaustive search in the space of 1-4\n",
      "features and 1-3 separating planes.\n",
      "\n",
      "The actual linear program used to obtain the separating plane\n",
      "in the 3-dimensional space is that described in:\n",
      "[K. P. Bennett and O. L. Mangasarian: \"Robust Linear\n",
      "Programming Discrimination of Two Linearly Inseparable Sets\",\n",
      "Optimization Methods and Software 1, 1992, 23-34].\n",
      "\n",
      "This database is also available through the UW CS ftp server:\n",
      "\n",
      "ftp ftp.cs.wisc.edu\n",
      "cd math-prog/cpo-dataset/machine-learn/WDBC/\n",
      "\n",
      ".. topic:: References\n",
      "\n",
      "   - W.N. Street, W.H. Wolberg and O.L. Mangasarian. Nuclear feature extraction \n",
      "     for breast tumor diagnosis. IS&T/SPIE 1993 International Symposium on \n",
      "     Electronic Imaging: Science and Technology, volume 1905, pages 861-870,\n",
      "     San Jose, CA, 1993.\n",
      "   - O.L. Mangasarian, W.N. Street and W.H. Wolberg. Breast cancer diagnosis and \n",
      "     prognosis via linear programming. Operations Research, 43(4), pages 570-577, \n",
      "     July-August 1995.\n",
      "   - W.H. Wolberg, W.N. Street, and O.L. Mangasarian. Machine learning techniques\n",
      "     to diagnose breast cancer from fine-needle aspirates. Cancer Letters 77 (1994) \n",
      "     163-171.\n"
     ]
    }
   ],
   "source": [
    "print(data.DESCR)"
   ]
  },
  {
   "cell_type": "code",
   "execution_count": 12,
   "id": "666c2f06",
   "metadata": {},
   "outputs": [],
   "source": [
    "X = pd.DataFrame(data.data, columns=data.feature_names)"
   ]
  },
  {
   "cell_type": "code",
   "execution_count": 13,
   "id": "12c8b6cb",
   "metadata": {},
   "outputs": [],
   "source": [
    "y = data.target"
   ]
  },
  {
   "cell_type": "code",
   "execution_count": 14,
   "id": "e0cfe6cd",
   "metadata": {},
   "outputs": [
    {
     "data": {
      "text/plain": [
       "mean radius                0\n",
       "mean texture               0\n",
       "mean perimeter             0\n",
       "mean area                  0\n",
       "mean smoothness            0\n",
       "mean compactness           0\n",
       "mean concavity             0\n",
       "mean concave points        0\n",
       "mean symmetry              0\n",
       "mean fractal dimension     0\n",
       "radius error               0\n",
       "texture error              0\n",
       "perimeter error            0\n",
       "area error                 0\n",
       "smoothness error           0\n",
       "compactness error          0\n",
       "concavity error            0\n",
       "concave points error       0\n",
       "symmetry error             0\n",
       "fractal dimension error    0\n",
       "worst radius               0\n",
       "worst texture              0\n",
       "worst perimeter            0\n",
       "worst area                 0\n",
       "worst smoothness           0\n",
       "worst compactness          0\n",
       "worst concavity            0\n",
       "worst concave points       0\n",
       "worst symmetry             0\n",
       "worst fractal dimension    0\n",
       "dtype: int64"
      ]
     },
     "execution_count": 14,
     "metadata": {},
     "output_type": "execute_result"
    }
   ],
   "source": [
    "X.isnull().sum()"
   ]
  },
  {
   "cell_type": "code",
   "execution_count": 15,
   "id": "5e9af1bb",
   "metadata": {},
   "outputs": [
    {
     "data": {
      "text/plain": [
       "(569, 30)"
      ]
     },
     "execution_count": 15,
     "metadata": {},
     "output_type": "execute_result"
    }
   ],
   "source": [
    "X.shape"
   ]
  },
  {
   "cell_type": "markdown",
   "id": "e34ec89e",
   "metadata": {},
   "source": [
    "#### Split dataset"
   ]
  },
  {
   "cell_type": "code",
   "execution_count": 16,
   "id": "be56eb97",
   "metadata": {},
   "outputs": [],
   "source": [
    "train_X, test_X, train_y, test_y = train_test_split(X, y)"
   ]
  },
  {
   "cell_type": "markdown",
   "id": "a9086805",
   "metadata": {},
   "source": [
    "#### Classification Models"
   ]
  },
  {
   "cell_type": "code",
   "execution_count": 17,
   "id": "7acc25e2",
   "metadata": {},
   "outputs": [],
   "source": [
    "lr = LogisticRegression(max_iter=3000)\n",
    "ada = AdaBoostClassifier()\n",
    "rfc = RandomForestClassifier()\n",
    "gnb = GaussianNB()\n",
    "svc = SVC()\n",
    "dtc = DecisionTreeClassifier()"
   ]
  },
  {
   "cell_type": "markdown",
   "id": "20b3ff11",
   "metadata": {},
   "source": [
    "#### Train Model on training dataset"
   ]
  },
  {
   "cell_type": "code",
   "execution_count": 18,
   "id": "0d827441",
   "metadata": {},
   "outputs": [],
   "source": [
    "models = [lr, ada, rfc, gnb, svc, dtc]\n",
    "for model in models:\n",
    "    model.fit(train_X,train_y)"
   ]
  },
  {
   "cell_type": "markdown",
   "id": "25d0f3f5",
   "metadata": {},
   "source": [
    "#### Prediction of testing dataset"
   ]
  },
  {
   "cell_type": "code",
   "execution_count": 19,
   "id": "24d71be1",
   "metadata": {},
   "outputs": [
    {
     "name": "stdout",
     "output_type": "stream",
     "text": [
      "LogisticRegression(max_iter=3000)\n",
      "              precision    recall  f1-score   support\n",
      "\n",
      "           0       0.96      0.96      0.96        50\n",
      "           1       0.98      0.98      0.98        93\n",
      "\n",
      "    accuracy                           0.97       143\n",
      "   macro avg       0.97      0.97      0.97       143\n",
      "weighted avg       0.97      0.97      0.97       143\n",
      "\n",
      "AdaBoostClassifier()\n",
      "              precision    recall  f1-score   support\n",
      "\n",
      "           0       0.98      0.98      0.98        50\n",
      "           1       0.99      0.99      0.99        93\n",
      "\n",
      "    accuracy                           0.99       143\n",
      "   macro avg       0.98      0.98      0.98       143\n",
      "weighted avg       0.99      0.99      0.99       143\n",
      "\n",
      "RandomForestClassifier()\n",
      "              precision    recall  f1-score   support\n",
      "\n",
      "           0       0.98      1.00      0.99        50\n",
      "           1       1.00      0.99      0.99        93\n",
      "\n",
      "    accuracy                           0.99       143\n",
      "   macro avg       0.99      0.99      0.99       143\n",
      "weighted avg       0.99      0.99      0.99       143\n",
      "\n",
      "GaussianNB()\n",
      "              precision    recall  f1-score   support\n",
      "\n",
      "           0       1.00      0.94      0.97        50\n",
      "           1       0.97      1.00      0.98        93\n",
      "\n",
      "    accuracy                           0.98       143\n",
      "   macro avg       0.98      0.97      0.98       143\n",
      "weighted avg       0.98      0.98      0.98       143\n",
      "\n",
      "SVC()\n",
      "              precision    recall  f1-score   support\n",
      "\n",
      "           0       0.98      0.90      0.94        50\n",
      "           1       0.95      0.99      0.97        93\n",
      "\n",
      "    accuracy                           0.96       143\n",
      "   macro avg       0.96      0.94      0.95       143\n",
      "weighted avg       0.96      0.96      0.96       143\n",
      "\n",
      "DecisionTreeClassifier()\n",
      "              precision    recall  f1-score   support\n",
      "\n",
      "           0       0.92      0.94      0.93        50\n",
      "           1       0.97      0.96      0.96        93\n",
      "\n",
      "    accuracy                           0.95       143\n",
      "   macro avg       0.94      0.95      0.95       143\n",
      "weighted avg       0.95      0.95      0.95       143\n",
      "\n"
     ]
    }
   ],
   "source": [
    "for model in models:\n",
    "    print(model)\n",
    "    predict(test_X, test_y, model)"
   ]
  }
 ],
 "metadata": {
  "kernelspec": {
   "display_name": "Python 3 (ipykernel)",
   "language": "python",
   "name": "python3"
  },
  "language_info": {
   "codemirror_mode": {
    "name": "ipython",
    "version": 3
   },
   "file_extension": ".py",
   "mimetype": "text/x-python",
   "name": "python",
   "nbconvert_exporter": "python",
   "pygments_lexer": "ipython3",
   "version": "3.9.1"
  },
  "vscode": {
   "interpreter": {
    "hash": "5f80c455da1dc101d9f66a16923589bd6dbb3429340af280f1efed2f72025e97"
   }
  }
 },
 "nbformat": 4,
 "nbformat_minor": 5
}
