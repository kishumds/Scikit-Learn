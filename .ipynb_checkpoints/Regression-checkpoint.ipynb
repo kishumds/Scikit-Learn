{
 "cells": [
  {
   "cell_type": "markdown",
   "id": "a0d24a2d",
   "metadata": {},
   "source": [
    "# Regression with Scikit-Learn"
   ]
  },
  {
   "cell_type": "markdown",
   "id": "3a6e07c5",
   "metadata": {},
   "source": [
    "### Regression on random generated dataset"
   ]
  },
  {
   "cell_type": "markdown",
   "id": "ef129909",
   "metadata": {},
   "source": [
    "#### Import Libraries"
   ]
  },
  {
   "cell_type": "code",
   "execution_count": 1,
   "id": "bdedb7ca",
   "metadata": {},
   "outputs": [],
   "source": [
    "import pandas as pd\n",
    "from sklearn import datasets\n",
    "from sklearn.model_selection import train_test_split\n",
    "from sklearn.ensemble import AdaBoostRegressor, RandomForestRegressor\n",
    "from sklearn.linear_model import LinearRegression\n",
    "from sklearn.svm import SVR\n",
    "from sklearn.tree import DecisionTreeRegressor\n",
    "from sklearn.metrics import mean_squared_error"
   ]
  },
  {
   "cell_type": "markdown",
   "id": "c65ac269",
   "metadata": {},
   "source": [
    "#### Create Regression dataset"
   ]
  },
  {
   "cell_type": "code",
   "execution_count": 2,
   "id": "1b0c2c12",
   "metadata": {},
   "outputs": [],
   "source": [
    "X, y = datasets.make_regression(\n",
    "                        n_samples=1000,\n",
    "                        n_features=10,\n",
    "                        n_informative=8,\n",
    "                        noise=1,\n",
    "                        random_state=43)"
   ]
  },
  {
   "cell_type": "code",
   "execution_count": 3,
   "id": "7a04fa7e",
   "metadata": {},
   "outputs": [
    {
     "data": {
      "text/html": [
       "<div>\n",
       "<style scoped>\n",
       "    .dataframe tbody tr th:only-of-type {\n",
       "        vertical-align: middle;\n",
       "    }\n",
       "\n",
       "    .dataframe tbody tr th {\n",
       "        vertical-align: top;\n",
       "    }\n",
       "\n",
       "    .dataframe thead th {\n",
       "        text-align: right;\n",
       "    }\n",
       "</style>\n",
       "<table border=\"1\" class=\"dataframe\">\n",
       "  <thead>\n",
       "    <tr style=\"text-align: right;\">\n",
       "      <th></th>\n",
       "      <th>X1</th>\n",
       "      <th>X2</th>\n",
       "      <th>X3</th>\n",
       "      <th>X4</th>\n",
       "      <th>X5</th>\n",
       "      <th>X6</th>\n",
       "      <th>X7</th>\n",
       "      <th>X8</th>\n",
       "      <th>X9</th>\n",
       "      <th>X10</th>\n",
       "    </tr>\n",
       "  </thead>\n",
       "  <tbody>\n",
       "    <tr>\n",
       "      <th>0</th>\n",
       "      <td>-2.409355</td>\n",
       "      <td>1.715185</td>\n",
       "      <td>-2.318154</td>\n",
       "      <td>0.449544</td>\n",
       "      <td>0.306028</td>\n",
       "      <td>-0.122155</td>\n",
       "      <td>-0.926671</td>\n",
       "      <td>0.679602</td>\n",
       "      <td>1.175889</td>\n",
       "      <td>0.603021</td>\n",
       "    </tr>\n",
       "    <tr>\n",
       "      <th>1</th>\n",
       "      <td>-0.844992</td>\n",
       "      <td>-0.213130</td>\n",
       "      <td>-0.959884</td>\n",
       "      <td>1.692580</td>\n",
       "      <td>-0.575497</td>\n",
       "      <td>0.552339</td>\n",
       "      <td>0.710395</td>\n",
       "      <td>-0.996281</td>\n",
       "      <td>0.192422</td>\n",
       "      <td>0.859260</td>\n",
       "    </tr>\n",
       "    <tr>\n",
       "      <th>2</th>\n",
       "      <td>-0.953270</td>\n",
       "      <td>-0.060433</td>\n",
       "      <td>0.122299</td>\n",
       "      <td>-0.467788</td>\n",
       "      <td>0.003849</td>\n",
       "      <td>-1.396142</td>\n",
       "      <td>-1.877393</td>\n",
       "      <td>-0.078378</td>\n",
       "      <td>-1.056249</td>\n",
       "      <td>2.734287</td>\n",
       "    </tr>\n",
       "    <tr>\n",
       "      <th>3</th>\n",
       "      <td>-1.926364</td>\n",
       "      <td>-2.340477</td>\n",
       "      <td>-0.332578</td>\n",
       "      <td>-0.419339</td>\n",
       "      <td>0.088185</td>\n",
       "      <td>-1.997641</td>\n",
       "      <td>-1.199337</td>\n",
       "      <td>0.025059</td>\n",
       "      <td>0.427709</td>\n",
       "      <td>-0.847966</td>\n",
       "    </tr>\n",
       "    <tr>\n",
       "      <th>4</th>\n",
       "      <td>-0.406896</td>\n",
       "      <td>-0.089699</td>\n",
       "      <td>0.648932</td>\n",
       "      <td>2.713480</td>\n",
       "      <td>-1.497093</td>\n",
       "      <td>-1.314372</td>\n",
       "      <td>0.161335</td>\n",
       "      <td>1.392263</td>\n",
       "      <td>0.906815</td>\n",
       "      <td>0.407956</td>\n",
       "    </tr>\n",
       "    <tr>\n",
       "      <th>...</th>\n",
       "      <td>...</td>\n",
       "      <td>...</td>\n",
       "      <td>...</td>\n",
       "      <td>...</td>\n",
       "      <td>...</td>\n",
       "      <td>...</td>\n",
       "      <td>...</td>\n",
       "      <td>...</td>\n",
       "      <td>...</td>\n",
       "      <td>...</td>\n",
       "    </tr>\n",
       "    <tr>\n",
       "      <th>995</th>\n",
       "      <td>0.537434</td>\n",
       "      <td>0.952931</td>\n",
       "      <td>1.458873</td>\n",
       "      <td>1.051285</td>\n",
       "      <td>0.263045</td>\n",
       "      <td>-0.367154</td>\n",
       "      <td>-0.567839</td>\n",
       "      <td>0.235110</td>\n",
       "      <td>-0.046830</td>\n",
       "      <td>0.202983</td>\n",
       "    </tr>\n",
       "    <tr>\n",
       "      <th>996</th>\n",
       "      <td>0.312891</td>\n",
       "      <td>0.997110</td>\n",
       "      <td>0.874307</td>\n",
       "      <td>-1.921856</td>\n",
       "      <td>-1.030479</td>\n",
       "      <td>-1.639469</td>\n",
       "      <td>-0.413027</td>\n",
       "      <td>-0.324526</td>\n",
       "      <td>-1.549008</td>\n",
       "      <td>0.351511</td>\n",
       "    </tr>\n",
       "    <tr>\n",
       "      <th>997</th>\n",
       "      <td>-0.516363</td>\n",
       "      <td>1.378709</td>\n",
       "      <td>-1.281165</td>\n",
       "      <td>1.746962</td>\n",
       "      <td>-1.252374</td>\n",
       "      <td>-0.471356</td>\n",
       "      <td>0.919734</td>\n",
       "      <td>-2.360842</td>\n",
       "      <td>0.952831</td>\n",
       "      <td>1.037480</td>\n",
       "    </tr>\n",
       "    <tr>\n",
       "      <th>998</th>\n",
       "      <td>-1.920197</td>\n",
       "      <td>-0.433793</td>\n",
       "      <td>0.228492</td>\n",
       "      <td>0.730748</td>\n",
       "      <td>-1.543144</td>\n",
       "      <td>-0.156774</td>\n",
       "      <td>1.290942</td>\n",
       "      <td>0.530109</td>\n",
       "      <td>0.914998</td>\n",
       "      <td>0.832432</td>\n",
       "    </tr>\n",
       "    <tr>\n",
       "      <th>999</th>\n",
       "      <td>-0.674121</td>\n",
       "      <td>0.423431</td>\n",
       "      <td>0.661981</td>\n",
       "      <td>-0.569569</td>\n",
       "      <td>0.813506</td>\n",
       "      <td>0.305522</td>\n",
       "      <td>-0.094083</td>\n",
       "      <td>-1.243297</td>\n",
       "      <td>0.353860</td>\n",
       "      <td>-2.777650</td>\n",
       "    </tr>\n",
       "  </tbody>\n",
       "</table>\n",
       "<p>1000 rows × 10 columns</p>\n",
       "</div>"
      ],
      "text/plain": [
       "           X1        X2        X3        X4        X5        X6        X7  \\\n",
       "0   -2.409355  1.715185 -2.318154  0.449544  0.306028 -0.122155 -0.926671   \n",
       "1   -0.844992 -0.213130 -0.959884  1.692580 -0.575497  0.552339  0.710395   \n",
       "2   -0.953270 -0.060433  0.122299 -0.467788  0.003849 -1.396142 -1.877393   \n",
       "3   -1.926364 -2.340477 -0.332578 -0.419339  0.088185 -1.997641 -1.199337   \n",
       "4   -0.406896 -0.089699  0.648932  2.713480 -1.497093 -1.314372  0.161335   \n",
       "..        ...       ...       ...       ...       ...       ...       ...   \n",
       "995  0.537434  0.952931  1.458873  1.051285  0.263045 -0.367154 -0.567839   \n",
       "996  0.312891  0.997110  0.874307 -1.921856 -1.030479 -1.639469 -0.413027   \n",
       "997 -0.516363  1.378709 -1.281165  1.746962 -1.252374 -0.471356  0.919734   \n",
       "998 -1.920197 -0.433793  0.228492  0.730748 -1.543144 -0.156774  1.290942   \n",
       "999 -0.674121  0.423431  0.661981 -0.569569  0.813506  0.305522 -0.094083   \n",
       "\n",
       "           X8        X9       X10  \n",
       "0    0.679602  1.175889  0.603021  \n",
       "1   -0.996281  0.192422  0.859260  \n",
       "2   -0.078378 -1.056249  2.734287  \n",
       "3    0.025059  0.427709 -0.847966  \n",
       "4    1.392263  0.906815  0.407956  \n",
       "..        ...       ...       ...  \n",
       "995  0.235110 -0.046830  0.202983  \n",
       "996 -0.324526 -1.549008  0.351511  \n",
       "997 -2.360842  0.952831  1.037480  \n",
       "998  0.530109  0.914998  0.832432  \n",
       "999 -1.243297  0.353860 -2.777650  \n",
       "\n",
       "[1000 rows x 10 columns]"
      ]
     },
     "execution_count": 3,
     "metadata": {},
     "output_type": "execute_result"
    }
   ],
   "source": [
    "X = pd.DataFrame(X)\n",
    "X.columns = ['X1', 'X2', 'X3', 'X4', 'X5', 'X6', 'X7', 'X8', 'X9', 'X10']\n",
    "X"
   ]
  },
  {
   "cell_type": "markdown",
   "id": "ec9e74bb",
   "metadata": {},
   "source": [
    "#### Split dataset into training dataset and testing dataset"
   ]
  },
  {
   "cell_type": "code",
   "execution_count": 4,
   "id": "a70e7d96",
   "metadata": {},
   "outputs": [],
   "source": [
    "train_X, test_X, train_y, test_y = train_test_split(X, y, random_state=1)"
   ]
  },
  {
   "cell_type": "markdown",
   "id": "c82b6519",
   "metadata": {},
   "source": [
    "#### Regression models"
   ]
  },
  {
   "cell_type": "code",
   "execution_count": 5,
   "id": "fddb4338",
   "metadata": {},
   "outputs": [],
   "source": [
    "lr = LinearRegression()\n",
    "ada = AdaBoostRegressor()\n",
    "rfr = RandomForestRegressor()\n",
    "dtr = DecisionTreeRegressor()\n",
    "svr = SVR()"
   ]
  },
  {
   "cell_type": "markdown",
   "id": "722a5767",
   "metadata": {},
   "source": [
    "#### Train Model on training dataset"
   ]
  },
  {
   "cell_type": "code",
   "execution_count": 6,
   "id": "7cdb3da3",
   "metadata": {},
   "outputs": [],
   "source": [
    "models = [lr, ada, rfr, dtr, svr]\n",
    "for model in models:\n",
    "    model.fit(train_X,train_y)"
   ]
  },
  {
   "cell_type": "markdown",
   "id": "ff5360c6",
   "metadata": {},
   "source": [
    "#### Prediction on testing dataset"
   ]
  },
  {
   "cell_type": "code",
   "execution_count": 7,
   "id": "08da1ef0",
   "metadata": {},
   "outputs": [],
   "source": [
    "def predict(X, y, model):\n",
    "    pred = model.predict(X)\n",
    "    print(mean_squared_error(y, pred))"
   ]
  },
  {
   "cell_type": "code",
   "execution_count": 8,
   "id": "db085cc6",
   "metadata": {
    "scrolled": true
   },
   "outputs": [
    {
     "name": "stdout",
     "output_type": "stream",
     "text": [
      "LinearRegression()\n",
      "1.0740034790446282\n",
      "AdaBoostRegressor()\n",
      "6248.396538894281\n",
      "RandomForestRegressor()\n",
      "4081.4249813914353\n",
      "DecisionTreeRegressor()\n",
      "9882.233958403684\n",
      "SVR()\n",
      "17777.597237156726\n"
     ]
    }
   ],
   "source": [
    "for model in models:\n",
    "    print(model)\n",
    "    predict(test_X, test_y, model)"
   ]
  },
  {
   "cell_type": "markdown",
   "id": "2e70f93d",
   "metadata": {},
   "source": [
    "### Regression on California housing price"
   ]
  },
  {
   "cell_type": "markdown",
   "id": "47529279",
   "metadata": {},
   "source": [
    "#### Load Dataset"
   ]
  },
  {
   "cell_type": "code",
   "execution_count": 9,
   "id": "6dc81a12",
   "metadata": {},
   "outputs": [],
   "source": [
    "data = datasets.fetch_california_housing()"
   ]
  },
  {
   "cell_type": "code",
   "execution_count": 10,
   "id": "b7db0c19",
   "metadata": {
    "scrolled": true
   },
   "outputs": [
    {
     "name": "stdout",
     "output_type": "stream",
     "text": [
      ".. _california_housing_dataset:\n",
      "\n",
      "California Housing dataset\n",
      "--------------------------\n",
      "\n",
      "**Data Set Characteristics:**\n",
      "\n",
      "    :Number of Instances: 20640\n",
      "\n",
      "    :Number of Attributes: 8 numeric, predictive attributes and the target\n",
      "\n",
      "    :Attribute Information:\n",
      "        - MedInc        median income in block group\n",
      "        - HouseAge      median house age in block group\n",
      "        - AveRooms      average number of rooms per household\n",
      "        - AveBedrms     average number of bedrooms per household\n",
      "        - Population    block group population\n",
      "        - AveOccup      average number of household members\n",
      "        - Latitude      block group latitude\n",
      "        - Longitude     block group longitude\n",
      "\n",
      "    :Missing Attribute Values: None\n",
      "\n",
      "This dataset was obtained from the StatLib repository.\n",
      "https://www.dcc.fc.up.pt/~ltorgo/Regression/cal_housing.html\n",
      "\n",
      "The target variable is the median house value for California districts,\n",
      "expressed in hundreds of thousands of dollars ($100,000).\n",
      "\n",
      "This dataset was derived from the 1990 U.S. census, using one row per census\n",
      "block group. A block group is the smallest geographical unit for which the U.S.\n",
      "Census Bureau publishes sample data (a block group typically has a population\n",
      "of 600 to 3,000 people).\n",
      "\n",
      "An household is a group of people residing within a home. Since the average\n",
      "number of rooms and bedrooms in this dataset are provided per household, these\n",
      "columns may take surpinsingly large values for block groups with few households\n",
      "and many empty houses, such as vacation resorts.\n",
      "\n",
      "It can be downloaded/loaded using the\n",
      ":func:`sklearn.datasets.fetch_california_housing` function.\n",
      "\n",
      ".. topic:: References\n",
      "\n",
      "    - Pace, R. Kelley and Ronald Barry, Sparse Spatial Autoregressions,\n",
      "      Statistics and Probability Letters, 33 (1997) 291-297\n",
      "\n"
     ]
    }
   ],
   "source": [
    "print(data.DESCR)"
   ]
  },
  {
   "cell_type": "code",
   "execution_count": 11,
   "id": "949dc6f2",
   "metadata": {},
   "outputs": [],
   "source": [
    "y = data.target"
   ]
  },
  {
   "cell_type": "code",
   "execution_count": 12,
   "id": "4853e673",
   "metadata": {},
   "outputs": [],
   "source": [
    "X = pd.DataFrame(data.data, columns=data.feature_names)"
   ]
  },
  {
   "cell_type": "code",
   "execution_count": 13,
   "id": "324db5cc",
   "metadata": {},
   "outputs": [
    {
     "data": {
      "text/plain": [
       "MedInc        0\n",
       "HouseAge      0\n",
       "AveRooms      0\n",
       "AveBedrms     0\n",
       "Population    0\n",
       "AveOccup      0\n",
       "Latitude      0\n",
       "Longitude     0\n",
       "dtype: int64"
      ]
     },
     "execution_count": 13,
     "metadata": {},
     "output_type": "execute_result"
    }
   ],
   "source": [
    "X.isnull().sum()"
   ]
  },
  {
   "cell_type": "code",
   "execution_count": 14,
   "id": "8ce3ac85",
   "metadata": {},
   "outputs": [
    {
     "data": {
      "text/plain": [
       "(20640, 8)"
      ]
     },
     "execution_count": 14,
     "metadata": {},
     "output_type": "execute_result"
    }
   ],
   "source": [
    "X.shape"
   ]
  },
  {
   "cell_type": "markdown",
   "id": "7658af94",
   "metadata": {},
   "source": [
    "#### Split Dataset"
   ]
  },
  {
   "cell_type": "code",
   "execution_count": 15,
   "id": "750e2cd2",
   "metadata": {},
   "outputs": [],
   "source": [
    "train_X, test_X, train_y, test_y = train_test_split(X, y)"
   ]
  },
  {
   "cell_type": "markdown",
   "id": "b30be3c2",
   "metadata": {},
   "source": [
    "#### Regression Model"
   ]
  },
  {
   "cell_type": "code",
   "execution_count": 16,
   "id": "a48aee8e",
   "metadata": {},
   "outputs": [],
   "source": [
    "lr = LinearRegression()\n",
    "ada = AdaBoostRegressor()\n",
    "rfr = RandomForestRegressor()\n",
    "dtr = DecisionTreeRegressor()\n",
    "svr = SVR()"
   ]
  },
  {
   "cell_type": "markdown",
   "id": "ffbec160",
   "metadata": {},
   "source": [
    "#### Train Model on training dataset"
   ]
  },
  {
   "cell_type": "code",
   "execution_count": 17,
   "id": "0f30f6a9",
   "metadata": {},
   "outputs": [],
   "source": [
    "models = [lr, ada, rfr, dtr, svr]\n",
    "for model in models:\n",
    "    model.fit(train_X,train_y)"
   ]
  },
  {
   "cell_type": "markdown",
   "id": "650718c7",
   "metadata": {},
   "source": [
    "#### Prediction on testing dataset"
   ]
  },
  {
   "cell_type": "code",
   "execution_count": 18,
   "id": "9a62a804",
   "metadata": {},
   "outputs": [
    {
     "name": "stdout",
     "output_type": "stream",
     "text": [
      "LinearRegression()\n",
      "0.5168386529359613\n",
      "AdaBoostRegressor()\n",
      "0.7544915627572881\n",
      "RandomForestRegressor()\n",
      "0.25670733006353624\n",
      "DecisionTreeRegressor()\n",
      "0.5404085366168411\n",
      "SVR()\n",
      "1.392066195201188\n"
     ]
    }
   ],
   "source": [
    "for model in models:\n",
    "    print(model)\n",
    "    predict(test_X, test_y, model)"
   ]
  }
 ],
 "metadata": {
  "kernelspec": {
   "display_name": "Python 3 (ipykernel)",
   "language": "python",
   "name": "python3"
  },
  "language_info": {
   "codemirror_mode": {
    "name": "ipython",
    "version": 3
   },
   "file_extension": ".py",
   "mimetype": "text/x-python",
   "name": "python",
   "nbconvert_exporter": "python",
   "pygments_lexer": "ipython3",
   "version": "3.9.1"
  },
  "vscode": {
   "interpreter": {
    "hash": "5f80c455da1dc101d9f66a16923589bd6dbb3429340af280f1efed2f72025e97"
   }
  }
 },
 "nbformat": 4,
 "nbformat_minor": 5
}
