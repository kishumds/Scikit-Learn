{
 "cells": [
  {
   "cell_type": "markdown",
   "metadata": {},
   "source": [
    "# Scikit-Learn"
   ]
  },
  {
   "cell_type": "markdown",
   "metadata": {},
   "source": [
    "Scikit-Learn (also known as sklearn) is a free software machine learning library for the Python programming language. It features various classification, regression and clustering algorithms including support-vector machines, random forests, gradient boosting, k-means and lot more, and is designed to interoperate with the Python numerical and scientific libraries NumPy and SciPy. "
   ]
  },
  {
   "cell_type": "markdown",
   "metadata": {},
   "source": [
    "* Classification\n",
    "* Regression\n",
    "* Clustering\n",
    "* Model Selection\n",
    "* PreProcessing"
   ]
  },
  {
   "cell_type": "markdown",
   "metadata": {},
   "source": [
    "### Classification\n",
    "* Logistic Regression\n",
    "* Support Vector Machine\n",
    "* Random Forest Classifier\n",
    "* Decision Tree Classifier\n",
    "* Naive Bayes (Gaussian, Multinomial)\n",
    "* K Nearest Neighbour (KNeighbour Classifier)\n",
    "* Gradient Boosting Classifier\n",
    "* Stochastic Gradient Descent Classifier"
   ]
  },
  {
   "cell_type": "markdown",
   "metadata": {},
   "source": [
    "### Regression\n",
    "* Linear Regression\n",
    "* Support Vector Machine\n",
    "* Random Forest Regression\n",
    "* Decision Tree Regression\n",
    "* Gradient Boosting Regression\n",
    "* Stochastic Gradient Descent Regression\n"
   ]
  },
  {
   "cell_type": "markdown",
   "metadata": {},
   "source": [
    "### Clustering\n",
    "* K-Means\n",
    "* Mean Shift\n",
    "* DBCSCAN\n",
    "* Agglomerative clustering\n",
    "* Spectral clustering"
   ]
  },
  {
   "cell_type": "markdown",
   "metadata": {},
   "source": [
    "### Model Selection\n",
    "* KFold\n",
    "* Repeated KFold\n",
    "* Stratified KFold\n",
    "* Cross Validation\n",
    "* Randomized Search CV\n",
    "* Grid Serch CV"
   ]
  },
  {
   "cell_type": "markdown",
   "metadata": {},
   "source": [
    "### Preprocessing\n",
    "* Scaler\n",
    "* Transormer\n",
    "* Encoder"
   ]
  },
  {
   "cell_type": "markdown",
   "metadata": {},
   "source": [
    "### Other\n",
    "* Pipelines (Implements utilities to build a composite estimator, as a chain of transforms and estimators.)\n",
    "* Metrics (Includes score functions, performance metrics and pairwise metrics and distance computations.)\n",
    "* Datasets\n",
    "* Feature Selection \n"
   ]
  }
 ],
 "metadata": {
  "kernelspec": {
   "display_name": "Python 3 (ipykernel)",
   "language": "python",
   "name": "python3"
  },
  "language_info": {
   "codemirror_mode": {
    "name": "ipython",
    "version": 3
   },
   "file_extension": ".py",
   "mimetype": "text/x-python",
   "name": "python",
   "nbconvert_exporter": "python",
   "pygments_lexer": "ipython3",
   "version": "3.11.0 (main, Oct 24 2022, 18:26:48) [MSC v.1933 64 bit (AMD64)]"
  },
  "vscode": {
   "interpreter": {
    "hash": "5f80c455da1dc101d9f66a16923589bd6dbb3429340af280f1efed2f72025e97"
   }
  }
 },
 "nbformat": 4,
 "nbformat_minor": 2
}
